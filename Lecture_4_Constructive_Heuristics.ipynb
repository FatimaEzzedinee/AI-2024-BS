{
 "cells": [
  {
   "attachments": {},
   "cell_type": "markdown",
   "metadata": {},
   "source": [
    "## Artificial Intelligence (BSc) SA 2024-2025\n",
    "\n",
    "- Prof. Luca Gambardella\n",
    "- Fatima Ezzeddine ([`fatima.ezzeddine@usi.ch`](mailto:fatima.ezzeddine@usi.ch))<br>\n",
    "\n",
    "---"
   ]
  },
  {
   "attachments": {},
   "cell_type": "markdown",
   "metadata": {
    "collapsed": true,
    "id": "7L6IKnlss5Qq",
    "pycharm": {
     "name": "#%% md\n"
    }
   },
   "source": [
    "## Second Lab\n",
    "\n",
    "What we are going to do today:\n",
    "- Recap of the previous Lab\n",
    "- Define the nearest neighbor method and use it\n",
    "- Define the Best Nearest Neighbors and use it \n",
    "- Define the Multi Fragment and use it\n",
    "- Define the Clarke-Wright and use it\n",
    "- Finally compare these Constructive Methods"
   ]
  },
  {
   "attachments": {},
   "cell_type": "markdown",
   "metadata": {
    "id": "eJ8pi5Fks5Qw"
   },
   "source": [
    "This cell below is simply importing some useful stuff for later"
   ]
  },
  {
   "cell_type": "code",
   "metadata": {
    "executionInfo": {
     "elapsed": 14,
     "status": "ok",
     "timestamp": 1665388235527,
     "user": {
      "displayName": "Umberto Junior Mele",
      "userId": "04357784316495716135"
     },
     "user_tz": -120
    },
    "id": "wWb5a4Z2s5Qx"
   },
   "source": [
    "import glob\n",
    "import numpy as np\n",
    "from matplotlib import pyplot as plt\n",
    "\n",
    "from time import time as t"
   ],
   "outputs": [],
   "execution_count": null
  },
  {
   "attachments": {},
   "cell_type": "markdown",
   "metadata": {
    "id": "mpVPo4szs5Qz"
   },
   "source": [
    "## Recap\n",
    "### The problems\n",
    "As we saw last time, we have 12 problems and two have an optimal solution"
   ]
  },
  {
   "cell_type": "code",
   "metadata": {
    "colab": {
     "base_uri": "https://localhost:8080/"
    },
    "executionInfo": {
     "elapsed": 14,
     "status": "ok",
     "timestamp": 1665388235528,
     "user": {
      "displayName": "Umberto Junior Mele",
      "userId": "04357784316495716135"
     },
     "user_tz": -120
    },
    "id": "RJLBUo5Ks5Q0",
    "outputId": "03801922-a9f1-433a-ec0e-d252f71ff2cf"
   },
   "source": [
    "# read all the files that has extention .tsp to the problems array object\n",
    "problems = glob.glob('./problems/*.tsp')\n",
    "for prob in problems:\n",
    "    if prob in [\"./problems/eil76.tsp\", \"./problems/kroA100.tsp\"]:\n",
    "        print(f\"- {prob[11:]} with opt\", sep='\\t')\n",
    "    else:\n",
    "        print(f\"- {prob[11:]}\", sep='\\t')"
   ],
   "outputs": [],
   "execution_count": null
  },
  {
   "attachments": {},
   "cell_type": "markdown",
   "metadata": {
    "id": "WQNLg3BTs5Q2"
   },
   "source": [
    "#### ProblemInstance Class\n",
    "Last time we implemented an ProblemInstance class that we can use to load a problem. "
   ]
  },
  {
   "cell_type": "code",
   "metadata": {
    "executionInfo": {
     "elapsed": 13,
     "status": "ok",
     "timestamp": 1665388235531,
     "user": {
      "displayName": "Umberto Junior Mele",
      "userId": "04357784316495716135"
     },
     "user_tz": -120
    },
    "id": "KczZne2ws5Q2"
   },
   "source": [
    "# import the functions we implemented in lab1\n",
    "from utils import ProblemInstance, SolverTSP, random_method, ils, sa"
   ],
   "outputs": [],
   "execution_count": null
  },
  {
   "cell_type": "code",
   "metadata": {
    "colab": {
     "base_uri": "https://localhost:8080/",
     "height": 742
    },
    "executionInfo": {
     "elapsed": 898,
     "status": "ok",
     "timestamp": 1665388236417,
     "user": {
      "displayName": "Umberto Junior Mele",
      "userId": "04357784316495716135"
     },
     "user_tz": -120
    },
    "id": "8AuvP2D8s5Q3",
    "outputId": "2039449c-6cbe-4c31-e73e-ebd86b260c38"
   },
   "source": [
    "# example of loading a problem instance\n",
    "example_problem = \"./problems/eil76.tsp\"\n",
    "\n",
    "# create the instance\n",
    "p_inst = ProblemInstance(example_problem)\n",
    "\n",
    "# call the implemented methods inside the instance\n",
    "# print informations about the problem instance\n",
    "p_inst.print_info()\n",
    "\n",
    "# plot the instance data points\n",
    "p_inst.plot_data()\n",
    "\n",
    "# print the distance matrix computed inside the problem instance\n",
    "print(p_inst.dist_matrix)"
   ],
   "outputs": [],
   "execution_count": null
  },
  {
   "attachments": {},
   "cell_type": "markdown",
   "metadata": {
    "id": "A99dfoZOs5Q3"
   },
   "source": [
    "### TSPSolver Class\n",
    "Even here, instead of reimplementing the class everytime, we can import the one I prepared before.\n",
    "This implementation is ready to receive a lot of different types of problems"
   ]
  },
  {
   "attachments": {},
   "cell_type": "markdown",
   "metadata": {
    "id": "RaPpQHaYs5Q5"
   },
   "source": [
    "The class implements the following methods:\n",
    "..."
   ]
  },
  {
   "cell_type": "code",
   "metadata": {
    "colab": {
     "base_uri": "https://localhost:8080/",
     "height": 551
    },
    "executionInfo": {
     "elapsed": 20,
     "status": "ok",
     "timestamp": 1665388236418,
     "user": {
      "displayName": "Umberto Junior Mele",
      "userId": "04357784316495716135"
     },
     "user_tz": -120
    },
    "id": "NsRVTwv5s5Q6",
    "outputId": "4452ada5-afe5-4cb2-ab10-001f55e53bb3"
   },
   "source": [
    "# dictionnary to map a method name to it's implemented function\n",
    "# this will make it easier to call the corresplonding method inside the TSP solver\n",
    "# example with random sovler\n",
    "available_solvers = {\"random\": random_method}\n",
    "\n",
    "solver = SolverTSP(\"random\", p_inst, available_solvers)\n",
    "# start the time counter\n",
    "start = t()\n",
    "solver.compute_solution(return_value=False, verbose=True)\n",
    "# end time counter\n",
    "end = t()\n",
    "# plot the solution\n",
    "solver.plot_solution()\n",
    "print(f\"best solution with len {solver.found_length} \\nwith a total time of {np.round(end - start, 5)} seconds\")"
   ],
   "outputs": [],
   "execution_count": null
  },
  {
   "attachments": {},
   "cell_type": "markdown",
   "metadata": {
    "id": "glkoo1sBs5Q7"
   },
   "source": [
    "### Let's analyse the performances of the random Method\n",
    "\n",
    "We will run a number of trails on random solver and plot ther results for comparison purposes\n"
   ]
  },
  {
   "cell_type": "code",
   "metadata": {
    "colab": {
     "base_uri": "https://localhost:8080/",
     "height": 572
    },
    "executionInfo": {
     "elapsed": 1764,
     "status": "ok",
     "timestamp": 1665388238172,
     "user": {
      "displayName": "Umberto Junior Mele",
      "userId": "04357784316495716135"
     },
     "user_tz": -120
    },
    "id": "pztVYVSbs5Q7",
    "outputId": "81068c0c-1b91-4df5-e4ec-2fc24b14c4ca",
    "scrolled": false
   },
   "source": [
    "# number of random solver trials to be run\n",
    "number_of_trials = 1000\n",
    "# array to save the found lenghts by the random solver over the trials\n",
    "found_lens = []\n",
    "# starting time\n",
    "start = t()\n",
    "for _ in range(number_of_trials):\n",
    "    # call the compute solution from TSPsolver\n",
    "    solver.compute_solution(return_value=False, verbose=False)\n",
    "    # save the lenght found and add it to the array\n",
    "    found_lens.append(solver.found_length)\n",
    "# end time    \n",
    "end = t()\n",
    "# plot all the found solutions in one plot\n",
    "# initialize figure\n",
    "fig=plt.figure(figsize=(8,6), dpi= 100, facecolor='w', edgecolor='k')\n",
    "plt.ylabel(\"Solution Length\")\n",
    "plt.xlabel(\"Tries\")\n",
    "# plot the found lens\n",
    "plt.plot(found_lens, \"*\",label=\"Random\")\n",
    "# plt a line for the optimal solution exisitng in the problem instance file\n",
    "plt.plot(np.ones(number_of_trials)*p_inst.best_sol, \"r-\",label=\"Optimal\")\n",
    "plt.legend(loc=\"center right\")\n",
    "plt.show()\n",
    "# best solution that have the minimum tour lenght\n",
    "print(f\"best solution {min(found_lens)} on {number_of_trials} trials,\\nwith a total time of {np.round(end - start, 2)} seconds\")"
   ],
   "outputs": [],
   "execution_count": null
  },
  {
   "attachments": {},
   "cell_type": "markdown",
   "metadata": {
    "id": "jdfWUUiss5Q8"
   },
   "source": [
    "-------------\n",
    "## Constructive Algorithm\n",
    "### Nearest Neighbor Method"
   ]
  },
  {
   "cell_type": "code",
   "metadata": {
    "executionInfo": {
     "elapsed": 11,
     "status": "ok",
     "timestamp": 1665388238173,
     "user": {
      "displayName": "Umberto Junior Mele",
      "userId": "04357784316495716135"
     },
     "user_tz": -120
    },
    "id": "50_Z3ipKs5Q8"
   },
   "source": [
    "def nn( instance_, starting_node=0): \n",
    "    # TODO\n",
    "    # have a copy of the distance matrix\n",
    "    dist_matrix = np.copy(instance_.dist_matrix)\n",
    "    # copy of number of points\n",
    "    n = int(instance_.nPoints)\n",
    "    # starting node id\n",
    "    node = starting_node\n",
    "    # add the starting node to the tour solution\n",
    "    tour = [node]\n",
    "    # Suggestion ^^^^\n",
    "    # loop over the points of the instance\n",
    "    # n - 1 because we already added the starting node\n",
    "        # new node insertion process\n",
    "        # we need to insert the closest point from the distance matrix\n",
    "        # the point should not be in the tour (every point in the tour should be visited only once)\n",
    "        # sort the node by np.argsort from distance matrix\n",
    "    return np.array(tour)"
   ],
   "outputs": [],
   "execution_count": null
  },
  {
   "cell_type": "code",
   "metadata": {
    "colab": {
     "base_uri": "https://localhost:8080/",
     "height": 551
    },
    "executionInfo": {
     "elapsed": 11,
     "status": "ok",
     "timestamp": 1665388238173,
     "user": {
      "displayName": "Umberto Junior Mele",
      "userId": "04357784316495716135"
     },
     "user_tz": -120
    },
    "id": "IjjoFv_ns5Q9",
    "outputId": "a230cdad-cce4-4f96-d7d0-92135adb9de9"
   },
   "source": [
    "# add Nearest neighbor to the solvers\n",
    "available_solvers = {\"random\": random_method,\n",
    "                     \"nn\":nn}\n",
    "\n",
    "# solve the p_instance with  'nn'\n",
    "solver = SolverTSP(\"nn\", p_inst, available_solvers)\n",
    "start = t()\n",
    "solver.compute_solution(return_value=False, verbose=True)\n",
    "end = t()\n",
    "\n",
    "solver.plot_solution()\n",
    "print(f\"best solution with len {solver.found_length} \\nwith a total time of {np.round(end - start, 5)} seconds\")\n",
    "nn_len = solver.found_length\n",
    "nn_time = np.round(end - start, 5)"
   ],
   "outputs": [],
   "execution_count": null
  },
  {
   "attachments": {},
   "cell_type": "markdown",
   "metadata": {},
   "source": [
    "## Compare the 1000 random solver to the solution of Nearest Neighbor"
   ]
  },
  {
   "cell_type": "code",
   "metadata": {
    "colab": {
     "base_uri": "https://localhost:8080/",
     "height": 637
    },
    "executionInfo": {
     "elapsed": 1163,
     "status": "ok",
     "timestamp": 1665388239329,
     "user": {
      "displayName": "Umberto Junior Mele",
      "userId": "04357784316495716135"
     },
     "user_tz": -120
    },
    "id": "VLbPmCb42rOj",
    "outputId": "d2167b42-1c4b-4f47-ac6f-e307d51b7538"
   },
   "source": [
    "# compute the 1000 random trials\n",
    "number_of_trials = 1000\n",
    "found_lens = []\n",
    "solver = SolverTSP(\"random\", p_inst, available_solvers)\n",
    "#start random computation\n",
    "start = t()\n",
    "for _ in range(number_of_trials):\n",
    "    solver.compute_solution(return_value=False, verbose=False)\n",
    "    found_lens.append(solver.found_length)\n",
    "end = t()\n",
    "# initialize figure\n",
    "fig=plt.figure(figsize=(8,6), dpi= 100, facecolor='w', edgecolor='k')\n",
    "plt.ylabel(\"Solution Length\")\n",
    "plt.xlabel(\"Tries\")\n",
    "# plot random found lenghts\n",
    "plt.plot(found_lens, \"*\",label=\"Random\")\n",
    "# plot the optimal solution\n",
    "plt.plot(np.ones(number_of_trials)*p_inst.best_sol, \"r-\",label=\"Optimal\")\n",
    "# plot the solution with Nearest neighbor\n",
    "plt.plot(np.ones(number_of_trials)*nn_len, \"b-\",label=\"Nearest Neighbor\")\n",
    "plt.legend(loc=\"center right\")\n",
    "plt.show()\n",
    "\n",
    "print(f\"best solution found with random {min(found_lens)} on {number_of_trials} trials,\\nwith a total time of {np.round(end - start, 2)} seconds\\n\\n\")\n",
    "print(f\"solution found with nn {nn_len},\\nwith a total time of {nn_time} seconds\")"
   ],
   "outputs": [],
   "execution_count": null
  },
  {
   "attachments": {},
   "cell_type": "markdown",
   "metadata": {
    "id": "A25UdIeTJOp8"
   },
   "source": [
    "### Best Nearest Neighbors"
   ]
  },
  {
   "cell_type": "code",
   "metadata": {
    "executionInfo": {
     "elapsed": 26,
     "status": "ok",
     "timestamp": 1665388239329,
     "user": {
      "displayName": "Umberto Junior Mele",
      "userId": "04357784316495716135"
     },
     "user_tz": -120
    },
    "id": "i_cC5eA-XT0B"
   },
   "source": [
    "# similar to NN, but change the starting node every time\n",
    "# complexity: n-squared\n",
    "def best_nn(instance):\n",
    "    return solution"
   ],
   "outputs": [],
   "execution_count": null
  },
  {
   "cell_type": "code",
   "metadata": {
    "colab": {
     "base_uri": "https://localhost:8080/",
     "height": 551
    },
    "executionInfo": {
     "elapsed": 22,
     "status": "ok",
     "timestamp": 1665388239330,
     "user": {
      "displayName": "Umberto Junior Mele",
      "userId": "04357784316495716135"
     },
     "user_tz": -120
    },
    "id": "lRAGk5zEXW0U",
    "outputId": "8a7ee5b9-285f-42f4-e24e-4d2facf0270a"
   },
   "source": [
    "# add best nn to the solvers\n",
    "available_solvers = {\"random\": random_method,\n",
    "                     \"nn\": nn,\n",
    "                     \"best_nn\":best_nn}\n",
    "\n",
    "# try it\n",
    "solver = SolverTSP(\"best_nn\", p_inst, available_solvers)\n",
    "start = t()\n",
    "solver.compute_solution(return_value=False, verbose=True)\n",
    "end = t()\n",
    "best_nn_len = solver.found_length\n",
    "solver.plot_solution()\n",
    "print(f\"best solution with len {solver.found_length} \\nwith a total time of {np.round(end - start, 5)} seconds\")"
   ],
   "outputs": [],
   "execution_count": null
  },
  {
   "cell_type": "code",
   "metadata": {},
   "source": [
    "# compute the 1000 random trials\n",
    "number_of_trials = 1000\n",
    "found_lens = []\n",
    "solver = SolverTSP(\"random\", p_inst, available_solvers)\n",
    "#start random computation\n",
    "start = t()\n",
    "for _ in range(number_of_trials):\n",
    "    solver.compute_solution(return_value=False, verbose=False)\n",
    "    found_lens.append(solver.found_length)\n",
    "end = t()\n",
    "# initialize figure\n",
    "fig=plt.figure(figsize=(8,6), dpi= 100, facecolor='w', edgecolor='k')\n",
    "plt.ylabel(\"Solution Length\")\n",
    "plt.xlabel(\"Tries\")\n",
    "# plot random found lenghts\n",
    "plt.plot(found_lens, \"*\",label=\"Random\")\n",
    "# plot the optimal solution\n",
    "plt.plot(np.ones(number_of_trials)*p_inst.best_sol, \"r-\",label=\"Optimal\")\n",
    "# plot the solution with Nearest neighbor\n",
    "plt.plot(np.ones(number_of_trials)*nn_len, \"b-\",label=\"Nearest Neighbor\")\n",
    "# plot the solution with Best Nearest neighbor\n",
    "plt.plot(np.ones(number_of_trials)*best_nn_len, \"g-\",label=\"Best Nearest Neighbor\")\n",
    "plt.legend(loc=\"center right\")\n",
    "plt.show()"
   ],
   "outputs": [],
   "execution_count": null
  },
  {
   "attachments": {},
   "cell_type": "markdown",
   "metadata": {
    "id": "uXtOOk25XXpR"
   },
   "source": [
    "### Multi Fragment"
   ]
  },
  {
   "cell_type": "code",
   "metadata": {
    "executionInfo": {
     "elapsed": 14,
     "status": "ok",
     "timestamp": 1665388239331,
     "user": {
      "displayName": "Umberto Junior Mele",
      "userId": "04357784316495716135"
     },
     "user_tz": -120
    },
    "id": "1oo-Zv7vXdTq"
   },
   "source": [
    "# solution example: {'0': [42, 21], '1': [29, 73], '2': [43, 39]}\n",
    "\n",
    "# if n1-n2 can be established\n",
    "# tsp tour should not have more than 2 connection for nodes\n",
    "# 3-degree city not allowed\n",
    "def check_if_available(n1, n2, sol):\n",
    "    return (len(sol[str(n1)]) < 2) and (len(sol[str(n2)]) < 2)\n",
    "\n",
    "# check for circuits\n",
    "# should not form an inner loop\n",
    "# start from the extremes and see if it ends (go to the end of partial solution that we have)\n",
    "# if it does not for an inner loop -> it will be added\n",
    "# if node with 0-connection -> you do not compute anything\n",
    "# compute loop tracker only if both extremes of the inserting edge have at least one connection\n",
    "def check_if_not_close(edge_to_append, sol):\n",
    "    # edge to be added to the tour\n",
    "    n1, n2 = edge_to_append\n",
    "    from_city = n2\n",
    "    # if node1 have 0-connection -> return true\n",
    "    if len(sol[str(n1)]) == 0:\n",
    "      return True\n",
    "    # if node2 have 0-connection -> return true\n",
    "    if len(sol[str(n2)]) == 0:\n",
    "      return True\n",
    "    \n",
    "    # start with the current city\n",
    "    # first edge coming from first node\n",
    "    cur_city = sol[str(n1)][0]\n",
    "    # array of nodes indices\n",
    "    partial_tour = [n1, cur_city]\n",
    "    while True:\n",
    "      # if current city have degree of 2\n",
    "      # a possible circuit is there, we need to check for circuits\n",
    "      if len(sol[str(cur_city)]) == 2:\n",
    "        # loop over the exisitng edges in the solution example\n",
    "        # if it connect by any edges to node2, this means it forms an edge\n",
    "        # so return False, we cannot add this edge because it creates a circuit,\n",
    "        # else return True directly, it's not possible for a circuit\n",
    "\n",
    "        # check for the cities connected to the current city\n",
    "        for i in sol[str(cur_city)]:\n",
    "          # if not in forming a circuit (not existing in the partial tour)\n",
    "          if i not in partial_tour:\n",
    "            cur_city = i\n",
    "            partial_tour.append(cur_city)\n",
    "            if cur_city == n2:\n",
    "              return False\n",
    "      else:\n",
    "        return True\n",
    "\n",
    "# Solve_Dict = {node_index[vertice_connection] for node_index in range(n) }\n",
    "# simple transformation from dictionary of vertices until array of node indices\n",
    "def create_solution(start_sol, sol, n):\n",
    "    assert len(start_sol) == 2, \"too many cities with just one link\"\n",
    "    end = False\n",
    "    n1, n2 = start_sol\n",
    "    from_city = n2\n",
    "    sol_list = [n1, n2]\n",
    "    while not end:\n",
    "        for node_connected in sol[str(from_city)]:\n",
    "            # print(node_connected, from_city)\n",
    "            # print(sol_list)\n",
    "            # print(sol)\n",
    "            if node_connected not in sol_list:\n",
    "                from_city = node_connected\n",
    "                sol_list.append(node_connected)\n",
    "            if len(sol_list) == n:\n",
    "                end = True\n",
    "    return sol_list\n",
    "\n",
    "\n",
    "# complexity at most n-squared log n, with some tricks, because we are ot running the inner loop and check n squared time\n",
    "# at each insertion we are having less edges to add\n",
    "# total number of edges n squared/2, constraint can be applied by a constant\n",
    "def mf(instance):\n",
    "  # copy of the distance matrix\n",
    "  mat = np.copy(instance.dist_matrix)\n",
    "  print(mat)\n",
    "  mat = np.triu(mat)\n",
    "  print(mat)\n",
    "  mat[mat == 0] = 100000\n",
    "  num_cit = instance.dist_matrix.shape[0]\n",
    "  print(num_cit)\n",
    "\n",
    "  start_list = [i for i in range(num_cit)]\n",
    "\n",
    "  solution = {str(i): [] for i in range(num_cit)}\n",
    "\n",
    "  inside = 0\n",
    "  # sort the matrice\n",
    "  for el in np.argsort(mat.flatten()):\n",
    "      # get shortest edges and get the nodes connecting it\n",
    "      print('Shortest path:')\n",
    "      print(el)\n",
    "      node1, node2 = el // num_cit, el % num_cit\n",
    "      print('Nodes:')\n",
    "      print(node1, node2)\n",
    "\n",
    "      # possible edge, we should check the constraints if we can add it or not\n",
    "      possible_edge = [node1, node2]\n",
    "\n",
    "      # we check if available (not 3-degree nodes for both nodes)\n",
    "      if check_if_available(node1, node2, solution):\n",
    "          print('Available not 3-degree')\n",
    "          # we check if it does not form a circuit\n",
    "          if check_if_not_close(possible_edge, solution):\n",
    "              print('Not Circuit')\n",
    "              # add the nodes to the tour solution\n",
    "              solution[str(node1)].append(node2)\n",
    "              solution[str(node2)].append(node1)\n",
    "              # check if a node exist more than once, remove it\n",
    "              if len(solution[str(node1)]) == 2:\n",
    "                  start_list.remove(node1)\n",
    "              if len(solution[str(node2)]) == 2:\n",
    "                  start_list.remove(node2)\n",
    "              inside += 1\n",
    "\n",
    "              print(solution)\n",
    "              # all edges are added, return solution\n",
    "              if inside == num_cit - 1:\n",
    "                  solution = create_solution(start_list, solution, num_cit)\n",
    "                  return solution"
   ],
   "outputs": [],
   "execution_count": null
  },
  {
   "cell_type": "code",
   "metadata": {
    "colab": {
     "base_uri": "https://localhost:8080/",
     "height": 551
    },
    "executionInfo": {
     "elapsed": 759,
     "status": "ok",
     "timestamp": 1665388240077,
     "user": {
      "displayName": "Umberto Junior Mele",
      "userId": "04357784316495716135"
     },
     "user_tz": -120
    },
    "id": "-iTyocncXg0d",
    "outputId": "b3dbcf5c-8757-479f-f49b-38a31fc30ac9"
   },
   "source": [
    "available_solvers = {\"random\": random_method,\n",
    "                     \"nn\":nn,\n",
    "                     \"best_nn\":best_nn,\n",
    "                     \"multi_fragment\": mf\n",
    "                    }\n",
    "\n",
    "solver = SolverTSP(\"multi_fragment\", p_inst, available_solvers)\n",
    "start = t()\n",
    "solver.compute_solution(return_value=False, verbose=True)\n",
    "end = t()\n",
    "\n",
    "mf_lenght = solver.found_length\n",
    "solver.plot_solution()\n",
    "print(f\"best solution with len {solver.found_length} \\nwith a total time of {np.round(end - start, 5)} seconds\")"
   ],
   "outputs": [],
   "execution_count": null
  },
  {
   "cell_type": "code",
   "metadata": {},
   "source": [
    "# compute the 1000 random trials\n",
    "number_of_trials = 1000\n",
    "found_lens = []\n",
    "solver = SolverTSP(\"random\", p_inst, available_solvers)\n",
    "#start random computation\n",
    "start = t()\n",
    "for _ in range(number_of_trials):\n",
    "    solver.compute_solution(return_value=False, verbose=False)\n",
    "    found_lens.append(solver.found_length)\n",
    "end = t()\n",
    "# initialize figure\n",
    "fig=plt.figure(figsize=(8,6), dpi= 100, facecolor='w', edgecolor='k')\n",
    "plt.ylabel(\"Solution Length\")\n",
    "plt.xlabel(\"Tries\")\n",
    "# plot random found lenghts\n",
    "plt.plot(found_lens, \"*\",label=\"Random\")\n",
    "# plot the optimal solution\n",
    "plt.plot(np.ones(number_of_trials)*p_inst.best_sol, \"r-\",label=\"Optimal\")\n",
    "# plot the solution with Nearest neighbor\n",
    "plt.plot(np.ones(number_of_trials)*nn_len, \"b-\",label=\"Nearest Neighbor\")\n",
    "# plot the solution with Best Nearest neighbor\n",
    "plt.plot(np.ones(number_of_trials)*best_nn_len, \"g-\",label=\"Best Nearest Neighbor\")\n",
    "# multi fragment\n",
    "plt.plot(np.ones(number_of_trials)*mf_lenght, \"y-\",label=\"Multi-Fragment\")\n",
    "plt.legend(loc=\"center right\")\n",
    "plt.show()"
   ],
   "outputs": [],
   "execution_count": null
  },
  {
   "attachments": {},
   "cell_type": "markdown",
   "metadata": {
    "id": "2PEYcOYgiuzW"
   },
   "source": [
    "### Clarke-Wright \n",
    "Instead of sorting edges from shortest to longest -> Clarke-Wright\n",
    "\n",
    "Sort based on saving\n"
   ]
  },
  {
   "cell_type": "code",
   "metadata": {
    "executionInfo": {
     "elapsed": 15,
     "status": "ok",
     "timestamp": 1665388240077,
     "user": {
      "displayName": "Umberto Junior Mele",
      "userId": "04357784316495716135"
     },
     "user_tz": -120
    },
    "id": "7JB9Yj-EiuXj"
   },
   "source": [
    "# free a hub from the list\n",
    "# node_index[str(hub_node)] = []\n",
    "def remove_hub(solution, hub_node):\n",
    "    list_to_rem = solution[str(hub_node)]\n",
    "    for node in list_to_rem:\n",
    "        solution[str(node)].remove(hub_node)\n",
    "    solution[str(hub_node)] = []\n",
    "    return solution, len(list_to_rem)\n",
    "\n",
    "# return nodes that still have a degree < 2\n",
    "def get_free_nodes(solution):\n",
    "    free = []\n",
    "    for key in solution.keys():\n",
    "        if len(solution[key]) < 2:\n",
    "            free.append(int(key))\n",
    "    return free\n",
    "\n",
    "# find a node that have minimal distance\n",
    "def find_hub(dist_matrix):\n",
    "    return np.argmin(np.sum(dist_matrix, axis=0))\n",
    "\n",
    "# compute saving for each pair of vertices\n",
    "def compute_savings(dist_matrix, hub_node):\n",
    "    n = dist_matrix.shape[0]\n",
    "    A = np.tile(dist_matrix[hub_node], n).reshape((n, n))\n",
    "    return A + np.transpose(A) - dist_matrix\n",
    "\n",
    "# same logic as MF but here we compute based on the saving instead of the distance between the two edges\n",
    "def cw(instance):\n",
    "  inside = 0\n",
    "  dist_matrix = instance.dist_matrix\n",
    "  # find the node with minimal sum of distances to it's neighbors\n",
    "  hub_node = find_hub(dist_matrix)\n",
    "  # compute all the savings in saving matrix\n",
    "  savings_mat = compute_savings(dist_matrix, hub_node)\n",
    "  mat = np.triu(savings_mat, 1)\n",
    "  num_cit = mat.shape[0]\n",
    "  start_list = [i for i in range(num_cit)]\n",
    "  solution = {str(i): [] for i in range(num_cit)}\n",
    "  # same process and constraints as Multi-Fragment\n",
    "  for el in np.argsort(mat.flatten())[::-1]:\n",
    "      node1, node2 = el // num_cit, el % num_cit\n",
    "      possible_edge = [node1, node2]\n",
    "      if hub_node not in possible_edge:\n",
    "          if check_if_available(node1, node2, solution):\n",
    "              if check_if_not_close(possible_edge, solution):\n",
    "                  solution[str(node1)].append(node2)\n",
    "                  solution[str(node2)].append(node1)\n",
    "                  if len(solution[str(node1)]) == 2:\n",
    "                      start_list.remove(node1)\n",
    "                  if len(solution[str(node2)]) == 2:\n",
    "                      start_list.remove(node2)\n",
    "                  inside += 1\n",
    "                  if inside == num_cit - 2:\n",
    "                      free_list = get_free_nodes(solution)\n",
    "                      if hub_node in free_list:\n",
    "                          free_list.remove(hub_node)\n",
    "                      node1 = free_list[0]\n",
    "                      node2 = free_list[1]\n",
    "                      solution[str(hub_node)] = [node1]\n",
    "                      solution[str(node1)].append(hub_node)\n",
    "                      start_list.remove(node1)\n",
    "                      solution_list = create_solution(start_list, solution, num_cit)\n",
    "                      return solution_list"
   ],
   "outputs": [],
   "execution_count": null
  },
  {
   "cell_type": "code",
   "metadata": {
    "colab": {
     "base_uri": "https://localhost:8080/",
     "height": 551
    },
    "executionInfo": {
     "elapsed": 16,
     "status": "ok",
     "timestamp": 1665388240078,
     "user": {
      "displayName": "Umberto Junior Mele",
      "userId": "04357784316495716135"
     },
     "user_tz": -120
    },
    "id": "5TSSZMezm6HG",
    "outputId": "050a8931-64d9-42de-f2be-75436bfb9c21"
   },
   "source": [
    "available_solvers = {\"random\": random_method,\n",
    "                     \"nn\":nn,\n",
    "                     \"best_nn\":best_nn,\n",
    "                     \"multi_fragment\": mf,\n",
    "                     \"clarke wright\": cw\n",
    "                    }\n",
    "\n",
    "solver = SolverTSP(\"clarke wright\", p_inst, available_solvers)\n",
    "start = t()\n",
    "solver.compute_solution(return_value=False, verbose=True)\n",
    "end = t()\n",
    "cw_sol = solver.found_length\n",
    "solver.plot_solution()\n",
    "print(f\"best solution with len {solver.found_length} \\nwith a total time of {np.round(end - start, 5)} seconds\")"
   ],
   "outputs": [],
   "execution_count": null
  },
  {
   "metadata": {},
   "cell_type": "code",
   "source": [
    "example_problem = \"./problems/eil76.tsp\"\n",
    "p_inst = ProblemInstance(example_problem)\n",
    "\n",
    "solver = SolverTSP(\"nn\", p_inst, available_solvers)\n",
    "start = t()\n",
    "solver.compute_solution(return_value=False, verbose=True)\n",
    "end = t()\n",
    "\n",
    "solver.plot_solution()\n",
    "print(f\"best solution with len {solver.found_length} \\nwith a total time of {np.round(end - start, 5)} seconds\")\n",
    "print(f\"solution found has a {solver.gap} % gap\")\n",
    "\n",
    "start = t()\n",
    "solution = ils(solver.solution, p_inst)\n",
    "end = t()\n",
    "print(end -  start)\n",
    "solver.method = \"nn folowed by ILS\"\n",
    "\n",
    "#assert solver.pass_and_check_if_solution_is_valid(solution), \"Solution non valid\"\n",
    "solver.solved = True\n",
    "solver.solution = solution\n",
    "solver.plot_solution()\n",
    "solver._gap()\n",
    "print(f\" nn followed by SA {solver.gap} % gap\")"
   ],
   "outputs": [],
   "execution_count": null
  },
  {
   "attachments": {},
   "cell_type": "markdown",
   "metadata": {
    "id": "lp9RXLX9Ye1M"
   },
   "source": [
    "### Comparison Constructive methods"
   ]
  },
  {
   "cell_type": "code",
   "metadata": {
    "colab": {
     "base_uri": "https://localhost:8080/"
    },
    "executionInfo": {
     "elapsed": 1560,
     "status": "ok",
     "timestamp": 1665388241626,
     "user": {
      "displayName": "Umberto Junior Mele",
      "userId": "04357784316495716135"
     },
     "user_tz": -120
    },
    "id": "jZ4R8UZgYed7",
    "outputId": "6ca12d2b-7aa9-43d5-b567-3f1077f92b65",
    "scrolled": true
   },
   "source": [
    "from time import time as t\n",
    "import pandas as pd\n",
    "from tqdm import tqdm\n",
    "\n",
    "available_solvers = {\"random\": random_method,\n",
    "                     \"nn\":nn,\n",
    "                     \"best_nn\":best_nn,\n",
    "                     \"multi_fragment\": mf,\n",
    "                     \"clarke wright\" : cw\n",
    "                    }\n",
    "\n",
    "show_plots = False\n",
    "verbose = False\n",
    "problems = [\"./problems/eil76.tsp\", \"./problems/kroA100.tsp\", \n",
    "            \"./problems/ch130.tsp\", \"./problems/d198.tsp\"]\n",
    "methods = available_solvers.keys()\n",
    "results = []\n",
    "index = []\n",
    "with tqdm(problems) as tq:\n",
    "    for filename in tq:\n",
    "        p_inst = ProblemInstance(filename)\n",
    "        if verbose:\n",
    "            print(\"\\n\\n#############################\")\n",
    "            p_inst.print_info()\n",
    "        if show_plots:\n",
    "            p_inst.plot_data()\n",
    "\n",
    "        for method in methods:\n",
    "            tq.set_postfix_str(f\"using {method} for {p_inst.name}\")\n",
    "            solver = SolverTSP(method, p_inst, available_solvers)\n",
    "            start = t()\n",
    "            solver.compute_solution(return_value=False, verbose=verbose)\n",
    "            end = t()\n",
    "            if verbose:   \n",
    "                print(f\"the total length for the solution found is {solver.found_length}\",\n",
    "                        f\"while the optimal length is {p_inst.best_sol}\",\n",
    "                        f\"the gap is {solver.gap} %\",\n",
    "                        f\"the solution is found in {np.round(end - start, 5)} seconds\",sep=\"\\n\")\n",
    "            index.append((filename[11:], method))\n",
    "            results.append([solver.found_length, p_inst.best_sol, solver.gap, end - start])\n",
    "\n",
    "            if show_plots:\n",
    "                  solver.plot_solution()\n",
    "\n",
    "            if p_inst.exist_opt and show_plots:\n",
    "                solver = SolverTSP(\"optimal\", p_inst)\n",
    "                solver.solved = True\n",
    "                solver.solution = np.concatenate([p_inst.optimal_tour, [p_inst.optimal_tour[0]]])\n",
    "                solver.plot_solution()"
   ],
   "outputs": [],
   "execution_count": null
  },
  {
   "cell_type": "code",
   "metadata": {
    "colab": {
     "base_uri": "https://localhost:8080/",
     "height": 708
    },
    "executionInfo": {
     "elapsed": 25,
     "status": "ok",
     "timestamp": 1665388241627,
     "user": {
      "displayName": "Umberto Junior Mele",
      "userId": "04357784316495716135"
     },
     "user_tz": -120
    },
    "id": "v8iJZ1QtY6WM",
    "outputId": "66efbd61-6adb-4fa2-e8cf-60592edb499f"
   },
   "source": [
    "index = pd.MultiIndex.from_tuples(index, names=['problem', 'method'])\n",
    "\n",
    "df = pd.DataFrame(results, index=index, columns=[\"tour length\", \"optimal solution\", \"gap\", \"time to solve\"])\n",
    "df"
   ],
   "outputs": [],
   "execution_count": null
  }
 ],
 "metadata": {
  "colab": {
   "provenance": []
  },
  "kernelspec": {
   "display_name": "Python 3",
   "language": "python",
   "name": "python3"
  },
  "language_info": {
   "codemirror_mode": {
    "name": "ipython",
    "version": 3
   },
   "file_extension": ".py",
   "mimetype": "text/x-python",
   "name": "python",
   "nbconvert_exporter": "python",
   "pygments_lexer": "ipython3",
   "version": "3.10.12"
  }
 },
 "nbformat": 4,
 "nbformat_minor": 0
}
