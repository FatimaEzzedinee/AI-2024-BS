{
 "cells": [
  {
   "attachments": {},
   "cell_type": "markdown",
   "metadata": {
    "collapsed": true,
    "id": "UYvUljZXny4F",
    "pycharm": {
     "name": "#%% md\n"
    }
   },
   "source": [
    "## Artificial Intelligence (BSc) SA 2024-2025\n",
    "\n",
    "- Prof. Luca Gambardella\n",
    "- Fatima Ezzeddine ([`fatima.ezzeddine@usi.ch`](mailto:fatima.ezzeddine@usi.ch))<br>\n",
    "\n",
    "---\n",
    "\n",
    "## Third Lab\n",
    "\n",
    "What we are going to do today:\n",
    "- Introduce two optimizers for local search methods\n",
    "- Use the optimizer with the methods defined before",
    "- Implement Iterated Local Search"
   ]
  },
  {
   "attachments": {},
   "cell_type": "markdown",
   "metadata": {
    "id": "_b6j9YFzny4K"
   },
   "source": [
    "This cell below is simply importing some useful stuff for later"
   ]
  },
  {
   "cell_type": "code",
   "metadata": {
    "id": "1W3yTwNRny4L"
   },
   "source": [
    "import glob\n",
    "import numpy as np\n",
    "from matplotlib import pyplot as plt\n",
    "from time import time as t\n",
    "from utils import compute_length, ProblemInstance, SolverTSP"
   ],
   "outputs": [],
   "execution_count": null
  },
  {
   "attachments": {},
   "cell_type": "markdown",
   "metadata": {
    "id": "Alt-Dkovny4O"
   },
   "source": [
    "## Optimizers\n",
    "### 2opt\n",
    "As we saw last time, we have 12 problems and two have an optimal solution"
   ]
  },
  {
   "attachments": {},
   "cell_type": "markdown",
   "metadata": {
    "id": "Le2KOHYwny4P"
   },
   "source": [
    "## Solution"
   ]
  },
  {
   "cell_type": "code",
   "metadata": {
    "id": "UBcPlP1Yny4P"
   },
   "source": [
    "import numpy as np\n",
    "\n",
    "def swap2opt(tsp_sequence, i, j):\n",
    "  n = len(tsp_sequence)\n",
    "  new_tsp_sequence = np.copy(tsp_sequence)\n",
    "  # flipping the part between i and j+1\n",
    "  new_tsp_sequence[i:j + 1 - n] = np.flip(tsp_sequence[i:j + 1 -n], axis=0)  \n",
    "  return new_tsp_sequence\n",
    "\n",
    "def gain(i, j, tsp_sequence, matrix_dist):\n",
    "  n = matrix_dist.shape[0]\n",
    "  old_link_len = (matrix_dist[tsp_sequence[i], tsp_sequence[i - 1]] + \n",
    "                  matrix_dist[tsp_sequence[j], tsp_sequence[j + 1 - n]])\n",
    "  \n",
    "  changed_links_len = (matrix_dist[tsp_sequence[j], tsp_sequence[i - 1]] + \n",
    "                       matrix_dist[tsp_sequence[i], tsp_sequence[j + 1 - n]])\n",
    "  \n",
    "  return + old_link_len - changed_links_len\n",
    "\n",
    "def step2opt(solution, matrix_dist, distance):\n",
    "  seq_length = len(solution)\n",
    "  tsp_sequence = np.array(solution)\n",
    "\n",
    "  for i in range(seq_length):\n",
    "    for j in range(i + 1, seq_length): #(i+ 1) because we do not want i=j, also if we put j before i, and we have a symetric case, we do not have to put j less than i we have the same swaps, so now the cases are divided by 2\n",
    "    # TODO\n",
    "      if ...:\n",
    "        # update new distance\n",
    "        ...\n",
    "        # swap the tour\n",
    "        ...\n",
    "        # return new tour, and new instance\n",
    "        ...\n",
    "  # END TODO\n",
    "  return tsp_sequence, distance, 1\n",
    "\n",
    "#while loop, calling step2opt until the new solution is shorter (an improvment)\n",
    "# when the new solution is smaller than the previous one then you keep going in the while\n",
    "# if this is not true, we return the solution we found\n",
    "def loop2opt(solution, instance, max_num_of_uncrosses=10000):\n",
    "    matrix_dist = instance.dist_matrix\n",
    "    new_len = compute_length(solution, matrix_dist)\n",
    "    new_tsp_sequence = np.copy(np.array(solution))\n",
    "    uncross = 0\n",
    "    try_again = True\n",
    "    seq_length = new_len\n",
    "    \n",
    "    while uncross < max_num_of_uncrosses:\n",
    "    # TODO\n",
    "    ...\n",
    "    # END TODO\n",
    "    return new_tsp_sequence.tolist(), new_len, uncross"
   ],
   "outputs": [],
   "execution_count": null
  },
  {
   "attachments": {},
   "cell_type": "markdown",
   "metadata": {
    "id": "g5cL_U6Qny4S"
   },
   "source": [
    "#### Let's test it"
   ]
  },
  {
   "cell_type": "code",
   "metadata": {
    "colab": {
     "base_uri": "https://localhost:8080/",
     "height": 623
    },
    "id": "GS0970c5ny4S",
    "outputId": "8483b7db-0d2e-4fe5-f9cf-761f115b31d4"
   },
   "source": [
    "example_problem = \"./problems/eil76.tsp\"\n",
    "p_inst = ProblemInstance(example_problem)\n",
    "p_inst.print_info()\n",
    "p_inst.plot_data()"
   ],
   "outputs": [],
   "execution_count": null
  },
  {
   "cell_type": "code",
   "metadata": {
    "id": "gjvIctN6ny4U"
   },
   "source": [
    "from utils import (\n",
    "    random_method,\n",
    ")\n",
    "available_solvers = {\n",
    "    \"random\": random_method,\n",
    "}"
   ],
   "outputs": [],
   "execution_count": null
  },
  {
   "cell_type": "code",
   "metadata": {
    "colab": {
     "base_uri": "https://localhost:8080/",
     "height": 1000
    },
    "id": "5fdT3XWCny4V",
    "outputId": "6ab4bdef-d9e9-4e3a-d63b-3483ed515fdb"
   },
   "source": [
    "solver = SolverTSP(\"random\", p_inst, available_solvers)\n",
    "start = t()\n",
    "solver.compute_solution(return_value=False, verbose=True)\n",
    "end = t()\n",
    "\n",
    "solver.plot_solution()\n",
    "print(f\"best solution with len {solver.found_length} \\nwith a total time of {np.round(end - start, 5)} seconds\")\n",
    "print(f\"solution found has a {solver.gap} % gap\")\n",
    "\n",
    "start = t()\n",
    "solution, new_length, uncross = loop2opt(solver.solution, p_inst)\n",
    "# solution, new_length = twoOpt(solver.solution, p_inst)\n",
    "end = t()\n",
    "print(end -  start)\n",
    "solver.method = \"random followed by 2 opt\"\n",
    "\n",
    "#assert solver.pass_and_check_if_solution_is_valid(solution), \"Solution non valid\"\n",
    "solver.solved = True\n",
    "solver.solution = solution\n",
    "solver.plot_solution()\n",
    "solver._gap()\n",
    "print(f\"best solution with len {solver.found_length} \\nwith a total time of {np.round(end - start, 5)} seconds\")\n",
    "print(f\" {solver.gap} % gap\")\n",
    "print(f\"with {uncross} number of uncrossed edges\")\n",
    "print(compute_length(solver.solution, p_inst.dist_matrix), solver.found_length)"
   ],
   "outputs": [],
   "execution_count": null
  },
  {
   "attachments": {},
   "cell_type": "markdown",
   "metadata": {
    "id": "YXfV4gyany4W"
   },
   "source": [
    "### 2.5opt"
   ]
  },
  {
   "cell_type": "code",
   "metadata": {
    "id": "oOzvYqZhny4W"
   },
   "source": [
    "import numpy as np\n",
    "\n",
    "def step2dot5opt(solution, matrix_dist, distance):\n",
    "    seq_length = len(solution)\n",
    "    tsp_sequence = np.array(solution)\n",
    "    uncrosses = 0\n",
    "    for i in range(1, seq_length - 1):\n",
    "        for j in range(i + 2, seq_length - 1):\n",
    "          #TODO\n",
    "          # 2opt gain\n",
    "          ...\n",
    "          \n",
    "          # node shift 1 gain\n",
    "          ...\n",
    "          \n",
    "          # node shift 2 gain\n",
    "          ...\n",
    "          \n",
    "          # conditions, check for best option\n",
    "          ...\n",
    "          # return new solution\n",
    "          ...  \n",
    "          # END TODO\n",
    "    return tsp_sequence, distance, uncrosses\n",
    "\n",
    "\n",
    "def shift1(tsp_sequence, i, j):\n",
    "  n = len(tsp_sequence)\n",
    "  new_tsp_sequence = np.concatenate([tsp_sequence[:i], \n",
    "                                     tsp_sequence[i + 1 -n: j + 1 -n], \n",
    "                                     [tsp_sequence[i]], \n",
    "                                     tsp_sequence[j + 1 - n:]])\n",
    "  return new_tsp_sequence\n",
    "\n",
    "\n",
    "def shift_gain1(i, j, tsp_sequence, matrix_dist):\n",
    "    n = matrix_dist.shape[0]\n",
    "    old_link_len = (matrix_dist[tsp_sequence[i], tsp_sequence[i - 1]] +\n",
    "                    matrix_dist[tsp_sequence[i], tsp_sequence[i + 1 - n]] +\n",
    "                    matrix_dist[tsp_sequence[j], tsp_sequence[j + 1 - n]])\n",
    "    changed_links_len = (matrix_dist[tsp_sequence[i - 1], tsp_sequence[i + 1 - n]] +\n",
    "                         matrix_dist[tsp_sequence[i], tsp_sequence[j]]\n",
    "                         + matrix_dist[tsp_sequence[i], tsp_sequence[j + 1 - n]])\n",
    "    return + old_link_len - changed_links_len\n",
    "\n",
    "\n",
    "def shift2(tsp_sequence, i, j):\n",
    "  n = len(tsp_sequence)\n",
    "  new_tsp_sequence = np.concatenate([tsp_sequence[:i], \n",
    "                                     [tsp_sequence[j]], \n",
    "                                     tsp_sequence[i: j], \n",
    "                                     tsp_sequence[j + 1 - n:]])\n",
    "  return new_tsp_sequence\n",
    "\n",
    "\n",
    "def shift_gain2(i, j, tsp_sequence, matrix_dist):\n",
    "  n = matrix_dist.shape[0]\n",
    "  old_link_len = (matrix_dist[tsp_sequence[i], tsp_sequence[i - 1]] +\n",
    "                  matrix_dist[tsp_sequence[j], tsp_sequence[j - 1]] +\n",
    "                  matrix_dist[tsp_sequence[j], tsp_sequence[j + 1 - n]])\n",
    "  changed_links_len = (matrix_dist[tsp_sequence[j], tsp_sequence[i - 1]] + \n",
    "                       matrix_dist[tsp_sequence[i], tsp_sequence[j]] +\n",
    "                       matrix_dist[tsp_sequence[j - 1], tsp_sequence[j + 1 - n]])\n",
    "  return + old_link_len - changed_links_len\n",
    "\n",
    "\n",
    "def loop2dot5opt(solution, instance):\n",
    "    matrix_dist = instance.dist_matrix\n",
    "    actual_len = compute_length(solution, matrix_dist)\n",
    "    new_tsp_sequence = np.copy(np.array(solution))\n",
    "    uncross = 0\n",
    "    new_len = actual_len\n",
    "    try_again = True\n",
    "    while True:\n",
    "      # TODO\n",
    "      new_tsp_sequence, new_len, uncr_ = step2dot5opt(new_tsp_sequence, matrix_dist, actual_len)\n",
    "      uncross += uncr_\n",
    "      # print(new_len, actual_len)\n",
    "      if new_len < actual_len:\n",
    "        actual_len = new_len\n",
    "        try_again = True\n",
    "      else:\n",
    "        if try_again:\n",
    "          try_again = False\n",
    "        else:\n",
    "          return new_tsp_sequence.tolist(), new_len, uncross   "
   ],
   "outputs": [],
   "execution_count": null
  },
  {
   "cell_type": "code",
   "metadata": {},
   "source": [
    "def shift1(tsp_sequence, i, j):\n",
    "  n = len(tsp_sequence)\n",
    "  new_tsp_sequence = np.concatenate([tsp_sequence[:i], \n",
    "                                     tsp_sequence[i + 1 -n: j + 1 -n], \n",
    "                                     [tsp_sequence[i]], \n",
    "                                     tsp_sequence[j + 1 - n:]])\n",
    "  return new_tsp_sequence\n",
    "\n",
    "\n",
    "def shift2(tsp_sequence, i, j):\n",
    "  n = len(tsp_sequence)\n",
    "  new_tsp_sequence = np.concatenate([tsp_sequence[:i], \n",
    "                                     [tsp_sequence[j]], \n",
    "                                     tsp_sequence[i: j], \n",
    "                                     tsp_sequence[j + 1 - n:]])\n",
    "  return new_tsp_sequence\n",
    "\n",
    "\n",
    "t = ['x1', 'x2', 'x3', 'x4', 'y1', 'y2', 'y3']\n",
    "i = 1\n",
    "j = 3\n",
    "shift1(t, i, j)\n",
    "# n = len(t)\n",
    "# t[:i], t[i + 1 -n: j + 1 -n], [t[i]], t[j + 1 - n:]"
   ],
   "outputs": [],
   "execution_count": null
  },
  {
   "cell_type": "code",
   "metadata": {
    "colab": {
     "base_uri": "https://localhost:8080/",
     "height": 1000
    },
    "id": "XlDpq0Lbny4W",
    "outputId": "4fd5b42f-3cde-47b6-be96-5e6a9b53d0d6"
   },
   "source": [
    "from time import time as t\n",
    "\n",
    "solver = SolverTSP(\"random\", p_inst, available_solvers)\n",
    "start = t()\n",
    "solver.compute_solution(return_value=False, verbose=True)\n",
    "end = t()\n",
    "\n",
    "solver.plot_solution()\n",
    "print(f\"best solution with len {solver.found_length} \\nwith a total time of {np.round(end - start, 5)} seconds\")\n",
    "print(f\"solution found has a {solver.gap} % gap\")\n",
    "\n",
    "start = t()\n",
    "solution, new_length, uncross = loop2dot5opt(solver.solution, p_inst)\n",
    "end = t()\n",
    "print(end -  start)\n",
    "solver.method = \"random folowed by 2.5 opt\"\n",
    "\n",
    "#assert solver.pass_and_check_if_solution_is_valid(solution), \"Solution non valid\"\n",
    "solver.solved = True\n",
    "solver.solution = solution\n",
    "solver.plot_solution()\n",
    "solver._gap()\n",
    "print(f\" {solver.gap} % gap\")\n",
    "print(f\"with {uncross} number of uncrossed edges\")"
   ],
   "outputs": [],
   "execution_count": null
  },
  {
   "attachments": {},
   "cell_type": "markdown",
   "metadata": {
    "id": "jXvjAhCwny4W"
   },
   "source": [
    "### Let's analyse the performances of the optimizers and the algorithms discussed until now\n"
   ]
  },
  {
   "cell_type": "code",
   "metadata": {
    "colab": {
     "base_uri": "https://localhost:8080/",
     "height": 1000
    },
    "id": "TJU8M53-ny4X",
    "outputId": "02e948aa-12d8-4278-d4c7-c954562cf7a8",
    "scrolled": false
   },
   "source": [
    "solver = SolverTSP(\"random\", p_inst, available_solvers)\n",
    "start = t()\n",
    "solver.compute_solution(return_value=False, verbose=True)\n",
    "end = t()\n",
    "\n",
    "solver.plot_solution()\n",
    "print(f\"best solution with len {solver.found_length} \\nwith a total time of {np.round(end - start, 5)} seconds\")\n",
    "print(f\"solution found has a {solver.gap} % gap\")\n",
    "\n",
    "old_solution=solver.solution\n",
    "\n",
    "\n",
    "start = t()\n",
    "solution, new_length, uncross = loop2opt(old_solution, p_inst)\n",
    "end = t()\n",
    "print(end -  start)\n",
    "solver.method = \"random followed by 2 opt\"\n",
    "\n",
    "#assert solver.pass_and_check_if_solution_is_valid(solution), \"Solution non valid\"\n",
    "solver.solved = True\n",
    "solver.solution = solution\n",
    "solver.plot_solution()\n",
    "solver._gap()\n",
    "print(f\" {solver.gap} % gap\")\n",
    "print(f\"with {uncross} number of uncrossed edges\")\n",
    "\n",
    "start = t()\n",
    "solution, new_length, uncross = loop2dot5opt(old_solution, p_inst)\n",
    "end = t()\n",
    "print(end -  start)\n",
    "solver.method = \"random followed by 2.5 opt\"\n",
    "\n",
    "#assert solver.pass_and_check_if_solution_is_valid(solution), \"Solution non valid\"\n",
    "solver.solved = True\n",
    "solver.solution = solution\n",
    "solver.plot_solution()\n",
    "solver._gap()\n",
    "print(f\" {solver.gap} % gap\")\n",
    "print(f\"with {uncross} number of uncrossed edges\")"
   ],
   "outputs": [],
   "execution_count": null
  },
  {
   "metadata": {},
   "cell_type": "markdown",
   "source": "# Iterated Local Search"
  },
  {
   "cell_type": "code",
   "metadata": {},
   "source": [
    "class DoubleBridge:\n",
    "  \n",
    "  @staticmethod\n",
    "  def difference_cost(solution, a, b, c, d, matrix):\n",
    "    n = matrix.shape[0]\n",
    "    to_remove = matrix[solution[a-1], solution[a]] + matrix[solution[b-1], solution[b]] + matrix[solution[c-1], solution[c]] + matrix[solution[d-1], solution[d]]\n",
    "    to_add = matrix[solution[a], solution[c-1]] + matrix[solution[b], solution[d-1]] + matrix[solution[c], solution[a-1]] + matrix[solution[d], solution[b-1]]\n",
    "    return to_add - to_remove\n",
    "\n",
    "\n",
    "  @staticmethod\n",
    "  def perturbate_solution(solution, actual_cost, matrix):\n",
    "    # generate 4 random indices\n",
    "    a, b, c, d = np.sort(np.random.choice(matrix.shape[0], size=4, replace=False))\n",
    "    # get new solution of double bridge\n",
    "    B = solution[a:b]\n",
    "    C = solution[b:c]\n",
    "    D = solution[c:d]\n",
    "    A = np.concatenate((solution[d:], solution[:a]))\n",
    "    new_solution = np.concatenate((A,D,C,B))\n",
    "    # double bridge gain computation\n",
    "    new_length = actual_cost + DoubleBridge.difference_cost(solution, a, b, c, d, matrix)\n",
    "    return new_solution, new_length"
   ],
   "outputs": [],
   "execution_count": null
  },
  {
   "metadata": {},
   "cell_type": "code",
   "source": [
    "# same code seen in cells tutorials\n",
    "# in this case its 2opt, but for ILS it can be any local search algorithm\n",
    "def local_search(solution, new_len, instance):\n",
    "    matrix_dist = instance.dist_matrix\n",
    "    new_tsp_sequence = np.copy(np.array(solution))\n",
    "    uncross = 0\n",
    "    seq_length = len(solution)\n",
    "    try_again = True\n",
    "    while uncross < 100:\n",
    "      new_tsp_sequence = np.roll(new_tsp_sequence, np.random.randint(seq_length)).astype(np.int64)\n",
    "      new_tsp_sequence, new_reward, uncr_ = step2opt(new_tsp_sequence, matrix_dist, new_len)\n",
    "      uncross += uncr_\n",
    "      if new_reward < new_len:\n",
    "        new_len = new_reward\n",
    "        try_again = True\n",
    "      else:\n",
    "        if try_again:\n",
    "          try_again = False\n",
    "        else:\n",
    "          return new_tsp_sequence, new_len\n",
    "\n",
    "    return new_tsp_sequence.tolist(), new_len"
   ],
   "outputs": [],
   "execution_count": null
  },
  {
   "metadata": {},
   "cell_type": "code",
   "source": [
    "def ils(solution, instance, constant_temperature=0.95, iterations_for_each_temp=100):\n",
    "    # initial setup\n",
    "    # initialize the temperature T = tmax\n",
    "    temperature = instance.best_sol / np.sqrt(instance.nPoints)\n",
    "\n",
    "    # save current and initialiye best solution variables\n",
    "    current_sol = np.array(solution)\n",
    "    current_len = compute_length(solution, instance.dist_matrix)\n",
    "    best_sol = np.array(solution)\n",
    "    best_len = current_len\n",
    "\n",
    "    # main loop\n",
    "    while temperature > 0.001:\n",
    "        for it in range(iterations_for_each_temp):\n",
    "            # TODO\n",
    "            # perturbation with Double Bridge\n",
    "\n",
    "            ...\n",
    "            # local search\n",
    "            ...\n",
    "            # END TODO\n",
    "            \n",
    "            # acceptance criterions same as SA\n",
    "            if new_cost - current_len < 0:\n",
    "                # print('updated sol')\n",
    "                current_sol = next_sol\n",
    "                current_len = new_cost\n",
    "                if current_len < best_len:\n",
    "                    # print(\"update best\")\n",
    "                    best_sol = current_sol\n",
    "                    best_len = current_len\n",
    "                    # print(best_len)\n",
    "                # print()\n",
    "            else:\n",
    "                r = np.random.uniform(0, 1)\n",
    "                if r < np.exp(- (new_cost - current_len) / temperature):\n",
    "                    current_sol = next_sol\n",
    "                    current_len = new_cost\n",
    "        # decrease temprateure\n",
    "        temperature *= constant_temperature\n",
    "    return best_sol"
   ],
   "outputs": [],
   "execution_count": null
  },
  {
   "metadata": {},
   "cell_type": "code",
   "source": [
    "start = t()\n",
    "solution_local = ils(solution, p_inst)\n",
    "end = t()\n",
    "solver.method = \"local search folowed by ILS\"\n",
    "\n",
    "#assert solver.pass_and_check_if_solution_is_valid(solution), \"Solution non valid\"\n",
    "solver.solved = True\n",
    "solver.solution = solution_local\n",
    "solver.plot_solution()\n",
    "solver._gap()\n",
    "print(f\"best solution with len {solver.found_length} \\n with a total time of {np.round(end - start, 5)} seconds\")\n",
    "print(f\"solution found has a {solver.gap} % gap\")"
   ],
   "outputs": [],
   "execution_count": null
  }
 ],
 "metadata": {
  "colab": {
   "provenance": []
  },
  "kernelspec": {
   "display_name": "Python 3",
   "language": "python",
   "name": "python3"
  },
  "language_info": {
   "codemirror_mode": {
    "name": "ipython",
    "version": 3
   },
   "file_extension": ".py",
   "mimetype": "text/x-python",
   "name": "python",
   "nbconvert_exporter": "python",
   "pygments_lexer": "ipython3",
   "version": "3.10.12"
  }
 },
 "nbformat": 4,
 "nbformat_minor": 0
}
