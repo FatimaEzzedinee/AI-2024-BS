{
 "cells": [
  {
   "attachments": {},
   "cell_type": "markdown",
   "metadata": {
    "collapsed": true,
    "id": "DavnOBwQ2_aL"
   },
   "source": [
    "## Artificial Intelligence (BSc) SA 2024-2025\n",
    "\n",
    "- Prof. Luca Gambardella\n",
    "- Fatima Ezzeddine ([`fatima.ezzeddine@usi.ch`](mailto:fatima.ezzeddine@usi.ch))<br>\n",
    "\n",
    "---\n",
    "# Lab 1: Introduction to TSP and JSP problem formulation and to Mealpy\n",
    "\n",
    "Lab Objectives:\n",
    "\n",
    "Traveling Salesman Problem:\n",
    "- read TSP data\n",
    "- define euclidean distance function\n",
    "- define a TSPProblemInstance python class \n",
    "- plot raw data\n",
    "- generate naive solution \n",
    "- check if the solution is valid\n",
    "- evaluate solution\n",
    "\n",
    "\n",
    "Job Shop Scehduling Problem:\n",
    "- read JSP data\n",
    "- define objective function\n",
    "- use mealpy algorithm to get a solution\n",
    "- plot gant chart for solution\n",
    "\n",
    "\n",
    "NOTE: I've marked all the code that you will have to fill with a `# TODO` comment\n"
   ]
  },
  {
   "attachments": {},
   "cell_type": "markdown",
   "metadata": {
    "id": "A56HlsOG2_aQ"
   },
   "source": [
    "This cell below is simply importing some useful stuff for later"
   ]
  },
  {
   "cell_type": "code",
   "execution_count": null,
   "metadata": {},
   "outputs": [],
   "source": [
    "# example of how to install a library in python\n",
    "!pip install numpy\n",
    "!pip install mealpy\n",
    "!pip install matplotlib"
   ]
  },
  {
   "cell_type": "code",
   "execution_count": null,
   "metadata": {
    "ExecuteTime": {
     "end_time": "2024-09-30T07:17:29.258453Z",
     "start_time": "2024-09-30T07:17:29.130722Z"
    }
   },
   "outputs": [],
   "source": [
    "!python3 --version"
   ]
  },
  {
   "cell_type": "code",
   "execution_count": null,
   "metadata": {
    "id": "-c-1eDC92_aS"
   },
   "outputs": [],
   "source": [
    "# The glob module finds all the pathnames matching a specified pattern\n",
    "import glob\n",
    "\n",
    "# Numpy library used for working with arrays, has functions for working in domain of linear algebra, and matrices\n",
    "import numpy as np\n",
    "\n",
    "# Matplotlib is a library for creating visualizations\n",
    "from matplotlib import pyplot as plt"
   ]
  },
  {
   "attachments": {},
   "cell_type": "markdown",
   "metadata": {
    "id": "eg1ejN9z2_aT"
   },
   "source": [
    "### Read TSP data\n",
    "In this Cup you will have to deal with predefined set of problems. These problems are located in the `problems` folder.\n",
    "\n",
    "First lets get list them out"
   ]
  },
  {
   "cell_type": "code",
   "execution_count": null,
   "metadata": {
    "ExecuteTime": {
     "end_time": "2024-09-30T07:20:45.866558Z",
     "start_time": "2024-09-30T07:20:45.859194Z"
    },
    "colab": {
     "base_uri": "https://localhost:8080/"
    },
    "id": "Nlp4SeQw2_aU",
    "outputId": "ad287d06-943d-48e4-a3bd-688adadf7c34"
   },
   "outputs": [],
   "source": [
    "# read all the files that has extention .tsp to the problems array object\n",
    "problems = glob.glob('./problems/*.tsp')\n",
    "\n",
    "# loop over the problems and print the problem name \n",
    "for prob in problems:\n",
    "    print(prob[11:])"
   ]
  },
  {
   "cell_type": "code",
   "execution_count": null,
   "metadata": {
    "ExecuteTime": {
     "end_time": "2024-09-30T07:20:56.799735Z",
     "start_time": "2024-09-30T07:20:56.792223Z"
    },
    "colab": {
     "base_uri": "https://localhost:8080/"
    },
    "id": "VEPTGiM72_aW",
    "outputId": "a9a38b71-41bb-4975-e301-b0fe75cb1ddd"
   },
   "outputs": [],
   "source": [
    "# Checking if all of the 10 problems are in the folder would be a waste of time so we can write a line of code just to check if they are all there\n",
    "print(np.all([n[11:] in ['fl1577.tsp','pr439.tsp','ch130.tsp','rat783.tsp','d198.tsp', 'kroA100.tsp','u1060.tsp','lin318.tsp','eil76.tsp','pcb442.tsp'] for n in problems]))"
   ]
  },
  {
   "attachments": {},
   "cell_type": "markdown",
   "metadata": {
    "id": "AidTvgtd2_aW"
   },
   "source": [
    "#### TSP File format\n",
    "All the problems are stored in a `.tsp` (this file is actually a renamed `.txt` file, so you could open them with your favorite text editor)\n",
    "\n",
    "As we will see in a bit all the problems files are composed of different sections:\n",
    "* `NAME`: the shortned name of the problem\n",
    "* `COMMENT`: a comment area that can contain the full name of the problem\n",
    "* `TYPE`: this defines the type of problem at hand, in our case is always TSP\n",
    "* `DIMENSION`: this states the problem dimension\n",
    "* `EDGE_WEIGHT_TYPE`: this section states the types of weights applied to edges, in our case it is always EUC_2D or the weights are giveng using the euclidean distance in 2 dimension\n",
    "* `BEST_KNOWN`: this states the best known result obtained, note that as the Prof said, it is unlikely to get a better performance than this\n",
    "* `NODE_COORD_SECTION`: finally we have the section that states the triplets that defines the problems points. These triplets are (point_number, x,y).\n",
    "\n",
    "Now that we know all of that, lets print the content of a single problem"
   ]
  },
  {
   "cell_type": "code",
   "execution_count": null,
   "metadata": {
    "colab": {
     "base_uri": "https://localhost:8080/"
    },
    "id": "5PJZzhc42_aX",
    "outputId": "6cad8176-ed79-4ecf-fc1e-0e5bd09f7eab"
   },
   "outputs": [],
   "source": [
    "example_problem = \"./problems/eil76.tsp\"\n",
    "# open problem file as read and print it's content lines\n",
    "with open(example_problem,\"r\") as exprob:\n",
    "    print(exprob.read().splitlines())"
   ]
  },
  {
   "attachments": {},
   "cell_type": "markdown",
   "metadata": {
    "id": "CRy8bEen2_aY"
   },
   "source": [
    "### Euclidean Distance\n",
    "Since all of our problems are using the euclidean distance between points for the edges weights.\n",
    "We will now define a function that computes the euclidean distance. This distance will also be used to build the distance matrix"
   ]
  },
  {
   "cell_type": "code",
   "execution_count": null,
   "metadata": {
    "id": "HvawRPVl2_aZ"
   },
   "outputs": [],
   "source": [
    "#define function to compute euclidean distance between 2 points\n",
    "def distance_euc(point_i, point_j):\n",
    "    rounding = 0\n",
    "    x_i, y_i = point_i[0], point_i[1]\n",
    "    x_j, y_j = point_j[0], point_j[1]\n",
    "    # use the numpy sqrt method\n",
    "    distance = np.sqrt((x_i - x_j) ** 2 + (y_i - y_j) ** 2)\n",
    "    return round(distance, rounding)"
   ]
  },
  {
   "attachments": {},
   "cell_type": "markdown",
   "metadata": {
    "id": "lB3WL3mj2_aZ"
   },
   "source": [
    "Let's test it"
   ]
  },
  {
   "cell_type": "code",
   "execution_count": null,
   "metadata": {
    "colab": {
     "base_uri": "https://localhost:8080/"
    },
    "id": "SqcLycl12_ab",
    "outputId": "6055112f-bb8e-4f88-eca9-341469d0b4ae"
   },
   "outputs": [],
   "source": [
    "point_1 = (2, 2)\n",
    "point_2 = (5, 5)\n",
    "distance_euc(point_1, point_2)\n",
    "# Expected output is 4.0 with rounding to 0"
   ]
  },
  {
   "cell_type": "code",
   "execution_count": null,
   "metadata": {
    "ExecuteTime": {
     "end_time": "2024-09-30T07:41:42.560288Z",
     "start_time": "2024-09-30T07:41:42.552646Z"
    }
   },
   "outputs": [],
   "source": [
    "text = 'NAME: eil76'\n",
    "text.split(' ')"
   ]
  },
  {
   "attachments": {},
   "cell_type": "markdown",
   "metadata": {
    "id": "VHbmBUD02_ab"
   },
   "source": [
    "### Reading and storing the data\n",
    "We will now define a Class called `ProblemInstance`\n",
    "\n",
    "in the Constructor of the class (`__init__()`method of a class in Python) you will have to implement the code for:\n",
    "* reading the raw data\n",
    "* store the metadata\n",
    "* read all the point and store them\n",
    "* code the method that creates the distance matrix between points\n",
    "* \\[optional\\] check if the problem loaded has an optimal and in that case store the optimal solution\n",
    "* \\[optional\\] code the plotting method\n"
   ]
  },
  {
   "cell_type": "code",
   "execution_count": null,
   "metadata": {
    "ExecuteTime": {
     "end_time": "2024-09-30T08:04:00.834961Z",
     "start_time": "2024-09-30T08:04:00.828258Z"
    },
    "id": "E8B2pHBa2_ac"
   },
   "outputs": [],
   "source": [
    "class ProblemInstance:\n",
    "\n",
    "    def __init__(self, name_tsp):\n",
    "\n",
    "        # boolean if the problem have an sxisting optimal solution\n",
    "        self.exist_opt = False\n",
    "\n",
    "        # the optimal tour that was found before\n",
    "        self.optimal_tour = None\n",
    "\n",
    "        # distance matrix\n",
    "        # Example distance matrix representing distances between 4 points\n",
    "        #    A    B    C    D\n",
    "        # A  0.0  2.5  3.0  4.2\n",
    "        # B  2.5  0.0  1.8  3.6\n",
    "        # C  3.0  1.8  0.0  2.9\n",
    "        # D  4.2  3.6  2.9  0.0\n",
    "        self.dist_matrix = None\n",
    "        \n",
    "        # read raw data  \n",
    "        with open(name_tsp) as f_o:\n",
    "            data= f_o.read()\n",
    "            self.lines = data.splitlines()\n",
    "\n",
    "        # store metadata set information \n",
    "\n",
    "        # here we expect the name of the problem\n",
    "        self.name = self.lines[0].split(' ')[1]\n",
    "        \n",
    "\n",
    "        # here we expect the number of points in the considered instance\n",
    "        self.nPoints =  int(self.lines[3].split(' ')[1])\n",
    "        \n",
    "        # here the length of the best solution\n",
    "        self.best_sol = float(self.lines[5].split(' ')[1])\n",
    "        \n",
    "        \n",
    "        # read all data points and store them \n",
    "        self.points = np.zeros((self.nPoints, 3)) # this is the structure where we will store the pts data \n",
    "        for i in range(self.nPoints):\n",
    "            line_i = self.lines[7 + i].split(' ')\n",
    "            self.points[i, 0] = int(line_i[0])\n",
    "            self.points[i, 1] = float(line_i[1])\n",
    "            self.points[i, 2] = float(line_i[2])\n",
    "\n",
    "        # create distance matrix bx calling create_dist_matrix\n",
    "        self.create_dist_matrix()\n",
    "        \n",
    "        # TODO [optional]\n",
    "        # if the problem is one with a optimal solution, that solution is loaded\n",
    "        self.optimal_tour = np.zeros(self.nPoints, dtype=int)\n",
    "        if name_tsp in [\"./problems/eil76.tsp\", \"./problems/kroA100.tsp\"]:\n",
    "            # change the boolean to True since an optimal solution exist\n",
    "            self.exist_opt = True\n",
    "            # open the optimal solution file and read it\n",
    "            file_object = open(name_tsp.replace(\".tsp\", \".opt.tour\"))\n",
    "            data = file_object.read()\n",
    "            file_object.close()\n",
    "            lines = data.splitlines()\n",
    "\n",
    "            # read all data points and store them\n",
    "\n",
    "            # initialize an array with 0s using np.zeros\n",
    "            self.optimal_tour = np.zeros(self.nPoints, dtype=int)\n",
    "            # read the points from the file and fill the array\n",
    "            for i in range(self.nPoints):\n",
    "                line_i = lines[5 + i].split(' ')\n",
    "                self.optimal_tour[i] = int(line_i[0]) - 1\n",
    "\n",
    "    # for display purposes\n",
    "    def print_info(self):\n",
    "        print(\"\\n#############################\\n\")\n",
    "        print('name: ' + self.name)\n",
    "        print('nPoints: ' + str(self.nPoints))\n",
    "        print('best_sol: ' + str(self.best_sol))\n",
    "        print('exist optimal: ' + str(self.exist_opt))\n",
    "\n",
    "    # for display purposes\n",
    "    def plot_data(self,show_numbers=False):\n",
    "        # define a figure with it's size\n",
    "        plt.figure(figsize=(8, 8))\n",
    "\n",
    "        # give it a title as the problem instance name\n",
    "        plt.title(self.name)\n",
    "\n",
    "        # scatter takes an x and y axis values that are in this case the points that we have\n",
    "        plt.scatter(self.points[:, 1], self.points[:, 2])\n",
    "\n",
    "        # if we want to add to the plot next to each point it's number or id\n",
    "        if show_numbers:\n",
    "            for i, txt in enumerate(np.arange(self.nPoints)): \n",
    "                plt.annotate(txt, (self.points[i, 1], self.points[i, 2]))\n",
    "\n",
    "        # display the plot/figure        \n",
    "        plt.show()\n",
    "\n",
    "    def create_dist_matrix(self): # TODO\n",
    "        # initialize the matrix with dimension n x n\n",
    "        self.dist_matrix = np.zeros((self.nPoints, self.nPoints))\n",
    "\n",
    "        # loop over all the pints and compute the euclidean distance between every pair of points with index i and j\n",
    "        for i in range(self.nPoints):\n",
    "            for j in range(i, self.nPoints):\n",
    "                self.dist_matrix[i, j] = distance_euc(self.points[i][1:3], self.points[j][1:3])\n",
    "\n",
    "        # transpose of the matrix and fill missing other 0s\n",
    "        # this was made to reduce the complexity  \n",
    "        self.dist_matrix += self.dist_matrix.T"
   ]
  },
  {
   "attachments": {},
   "cell_type": "markdown",
   "metadata": {
    "id": "APxM3ouk2_ad"
   },
   "source": [
    "------------------------\n",
    "Now we can test our Class with an example problem"
   ]
  },
  {
   "cell_type": "code",
   "execution_count": null,
   "metadata": {
    "ExecuteTime": {
     "end_time": "2024-09-30T08:12:25.496733Z",
     "start_time": "2024-09-30T08:12:25.408886Z"
    },
    "id": "BEAe-Jn72_ad"
   },
   "outputs": [],
   "source": [
    "example_problem = \"./problems/eil76.tsp\"\n",
    "p_inst = ProblemInstance(example_problem)\n",
    "\n",
    "p_inst.print_info()\n",
    "p_inst.plot_data()\n",
    "#Expected output\n",
    "\"\"\"\n",
    "#############################\n",
    "\n",
    "name: eil76\n",
    "nPoints: 76\n",
    "best_sol: 538.0\n",
    "exist optimal: True\n",
    "\"\"\""
   ]
  },
  {
   "cell_type": "code",
   "execution_count": null,
   "metadata": {
    "ExecuteTime": {
     "end_time": "2024-09-30T08:13:12.097203Z",
     "start_time": "2024-09-30T08:13:12.093875Z"
    }
   },
   "outputs": [],
   "source": [
    "p_inst.nPoints"
   ]
  },
  {
   "cell_type": "code",
   "execution_count": null,
   "metadata": {
    "ExecuteTime": {
     "end_time": "2024-09-30T08:13:49.275168Z",
     "start_time": "2024-09-30T08:13:49.104486Z"
    },
    "colab": {
     "base_uri": "https://localhost:8080/",
     "height": 499
    },
    "id": "yq0ANvoC2_ae",
    "outputId": "6b11931c-0707-457d-d7b3-f556a26b1f46",
    "scrolled": false
   },
   "outputs": [],
   "source": [
    "p_inst.plot_data(show_numbers=True)"
   ]
  },
  {
   "attachments": {},
   "cell_type": "markdown",
   "metadata": {
    "id": "WjCTdGdK2_af"
   },
   "source": [
    "-------------\n",
    "### Random solver \n",
    "Now we will code the random solver and test it with a class called `SolverTSP` that takes the solvers and the problem instance and act as a framework to compute the solution and gives us some additional information.\n",
    "We will also need to code the `evaluate_solution` method of the the `SolverTSP` class"
   ]
  },
  {
   "cell_type": "code",
   "execution_count": null,
   "metadata": {
    "ExecuteTime": {
     "end_time": "2024-09-30T08:20:24.016545Z",
     "start_time": "2024-09-30T08:20:24.013125Z"
    },
    "id": "K-jm3cj42_af"
   },
   "outputs": [],
   "source": [
    "\n",
    "# Generate a random permutation of numbers from 0 to instance_.nPoints - 1.\n",
    "#  This is done using np.arange(instance_.nPoints), which creates an array of integers from 0 to instance_.nPoints - 1.\n",
    "\n",
    "# np.random.choice is then used to randomly shuffle this array. \n",
    "# It essentially selects elements from the array in a random order without replacement, ensuring that each element is selected exactly once.\n",
    "\n",
    "#The result is an array containing a random permutation of integers from 0 to instance_.nPoints - 1.\n",
    "\n",
    "def random_method(instance_): # TODO\n",
    "    return np.random.choice(np.arange(instance_.nPoints), size=instance_.nPoints,\n",
    "                            replace=False)\n",
    "\n",
    "print(random_method(p_inst))"
   ]
  },
  {
   "cell_type": "code",
   "execution_count": null,
   "metadata": {},
   "outputs": [],
   "source": []
  },
  {
   "cell_type": "code",
   "execution_count": null,
   "metadata": {
    "ExecuteTime": {
     "end_time": "2024-09-30T08:21:47.647193Z",
     "start_time": "2024-09-30T08:21:47.644484Z"
    }
   },
   "outputs": [],
   "source": [
    "available_methods = {\"random\": random_method}"
   ]
  },
  {
   "cell_type": "code",
   "execution_count": null,
   "metadata": {
    "ExecuteTime": {
     "end_time": "2024-09-30T08:36:10.924053Z",
     "start_time": "2024-09-30T08:36:10.915542Z"
    },
    "id": "7rtm0PHg2_af"
   },
   "outputs": [],
   "source": [
    "# library to get time\n",
    "from time import time as t\n",
    "\n",
    "class SolverTSP:\n",
    "    def __init__(self, algorithm_name, problem_instance):\n",
    "        # duration taken to find the solution\n",
    "        self.duration = np.inf\n",
    "\n",
    "        # lenght of the tour found by the solver\n",
    "        self.found_length = np.inf\n",
    "\n",
    "        # name of the algorithm\n",
    "        self.algorithm_name = algorithm_name\n",
    "\n",
    "        # initialization\n",
    "        self.name_method = \"initialized with \" + algorithm_name\n",
    "\n",
    "        # boolean to check if solved problem\n",
    "        self.solved = False\n",
    "\n",
    "        # TSP problem intance to be solved\n",
    "        self.problem_instance = problem_instance\n",
    "\n",
    "        # the found solution\n",
    "        self.solution = None\n",
    "\n",
    "    # function that takes computes the solution by applying the function given as input\n",
    "    def compute_solution(self, verbose=True, return_value=True):\n",
    "        self.solved = False\n",
    "        if verbose:\n",
    "            print(f\"###  solving with {self.algorithm_name}  ####\")\n",
    "        \n",
    "        # starting time \n",
    "        start_time = t()\n",
    "\n",
    "        # available methods that was defined earlier have a pointer to the function (algorithm name) and take as input the problem instance\n",
    "        self.solution = available_methods[self.algorithm_name](self.problem_instance)\n",
    "\n",
    "        # check if solution is valid implemented\n",
    "        assert self.check_if_solution_is_valid(self.solution), \"Error the solution is not valid\"\n",
    "        #end time of the solution\n",
    "        end_time = t()\n",
    "        self.duration = np.around(end_time - start_time, 3)\n",
    "        if verbose:\n",
    "            print(f\"###  solved  ####\")\n",
    "        self.solved = True\n",
    "        # compute the length of the solution tour\n",
    "        self.evaluate_solution()\n",
    "\n",
    "        # compute the gap\n",
    "        self._gap()\n",
    "\n",
    "        if return_value:\n",
    "            return self.solution\n",
    "\n",
    "    # simple plot of the soluton found\n",
    "    def plot_solution(self):\n",
    "        assert self.solved, \"You can't plot the solution, you need to compute it first!\"\n",
    "        plt.figure(figsize=(8, 8))\n",
    "        self._gap()\n",
    "        plt.title(f\"{self.problem_instance.name} solved with {self.name_method} solver, gap {self.gap}\")\n",
    "        ordered_points = self.problem_instance.points[self.solution]\n",
    "        plt.plot(ordered_points[:, 1], ordered_points[:, 2], 'b-')\n",
    "        plt.show()\n",
    "\n",
    "    # check if the solution contains all the point and visited exactly one\n",
    "    def check_if_solution_is_valid(self, solution):\n",
    "        rights_values = np.sum([self.check_validation(i, solution) for i in np.arange(self.problem_instance.nPoints)])\n",
    "        if  rights_values == self.problem_instance.nPoints:\n",
    "            return True\n",
    "        else:\n",
    "            return False \n",
    "        \n",
    "    # check if a point/node inside a solution \n",
    "    def check_validation(self, node , solution):\n",
    "         if np.sum(solution == node) == 1:\n",
    "            return 1\n",
    "         else:\n",
    "            return 0\n",
    "\n",
    "    # compute the tour lengh by the help of distance matrix already computed\n",
    "    def evaluate_solution(self, return_value=False):\n",
    "        total_length = 0\n",
    "        from_node_id = self.solution[0] # starting_node\n",
    "\n",
    "        # loop over all the nodes and add successive distances\n",
    "        for node_id in self.solution[1:]:\n",
    "            edge_distance = self.problem_instance.dist_matrix[from_node_id, node_id]\n",
    "            total_length += edge_distance\n",
    "            from_node_id = node_id\n",
    "\n",
    "        # have a complete tour and add the distance to go back to starting node    \n",
    "        self.found_length = total_length + self.problem_instance.dist_matrix[self.solution[0], from_node_id]       \n",
    "        if return_value:\n",
    "            return total_length\n",
    "\n",
    "    # compute (solution - best solution)/best solution in %\n",
    "    def _gap(self):\n",
    "        self.evaluate_solution(return_value=False)\n",
    "        self.gap = np.round(\n",
    "            ((self.found_length - self.problem_instance.best_sol) / self.problem_instance.best_sol) * 100, 2)\n"
   ]
  },
  {
   "attachments": {},
   "cell_type": "markdown",
   "metadata": {
    "id": "umtC2uwz2_ag"
   },
   "source": [
    "----------------------------\n",
    "Now we will test our code"
   ]
  },
  {
   "cell_type": "code",
   "execution_count": null,
   "metadata": {
    "ExecuteTime": {
     "end_time": "2024-09-30T08:36:15.798620Z",
     "start_time": "2024-09-30T08:36:15.696997Z"
    },
    "colab": {
     "base_uri": "https://localhost:8080/",
     "height": 642
    },
    "id": "PT-rZMKf2_ag",
    "outputId": "d690bd7f-d50c-44ac-b652-2d7595acbe85"
   },
   "outputs": [],
   "source": [
    "# here I'm repeating this two lines just to remind you which problem we are using\n",
    "example_problem = \"./problems/eil76.tsp\"\n",
    "p_inst = ProblemInstance(example_problem)\n",
    "available_methods = {\"random\": random_method}\n",
    "solver_name=\"random\"\n",
    "# TODO\n",
    "# 1. create an instance of SolverTSP\n",
    "solver = SolverTSP(solver_name, p_inst)\n",
    "# 2. compute a solution\n",
    "solver.compute_solution()\n",
    "# 3. print the information as for the output\n",
    "print(f\"the total length for the solution found is {solver.found_length}\",\n",
    "      f\"while the optimal length is {solver.problem_instance.best_sol}\",\n",
    "      f\"the gap is {solver.gap}%\",\n",
    "      f\"the solution is found in {solver.duration} seconds\", sep=\"\\n\")\n",
    "# 4. plot the solution\n",
    "solver.plot_solution()\n",
    "# this is the output expected and after that the solution's plot\n",
    "\"\"\"\n",
    "###  solving with random  ####\n",
    "###  solved  ####\n",
    "the total length for the solution found is 2424.0\n",
    "while the optimal length is 538.0\n",
    "the gap is 350.56%\n",
    "the solution is found in 0.0 seconds\n",
    "\"\"\""
   ]
  },
  {
   "attachments": {},
   "cell_type": "markdown",
   "metadata": {
    "id": "8dUGFPw32_ag"
   },
   "source": [
    "--------------------\n",
    "Finally since our example problem has an optimal solution we can plot it"
   ]
  },
  {
   "cell_type": "code",
   "execution_count": null,
   "metadata": {},
   "outputs": [],
   "source": [
    "solver = SolverTSP(\"optimal\", p_inst)\n",
    "solver.solved = True\n",
    "# the solution is the optimal tour\n",
    "solver.solution = np.concatenate([p_inst.optimal_tour, [p_inst.optimal_tour[0]]])\n",
    "solver.plot_solution()"
   ]
  },
  {
   "cell_type": "markdown",
   "metadata": {},
   "source": [
    "### JOB SHOP SCHEDULING\n",
    "JSPLIB\n",
    "- \"name\" : \"instance\", // the name of the instance [required]\n",
    "- \"jobs\" : n,          // the number of jobs [required]\n",
    "- \"machines\" : m,      // the number of machines [required]\n",
    "- \"optimum\" : c,       // the optimum makespan or null [required]\n",
    "- \"bounds\" :          // required when the optimum is null\n",
    "- \"upper\" : ub,       // the upper-bounds of makespan\n",
    "- \"lower\" : lb,       // the lower-bounds of makespan\n",
    "- \"path\" : \"*****\"     // the file path to the instance [required]\n"
   ]
  },
  {
   "cell_type": "code",
   "execution_count": null,
   "metadata": {},
   "outputs": [],
   "source": [
    "# coding: utf-8\n",
    "import os\n",
    "import sys\n",
    "import json\n",
    "import math\n",
    "import numpy as np\n",
    "\n",
    "Target = 'abz5'\n",
    "\n",
    "file = open('./JSPLIB-master/instances.json', \"r\" )\n",
    "data = json.load(file)\n",
    "\n",
    "instance = [ inst for inst in data if inst['name'] == Target ]\n",
    "if(len(instance) == 0):\n",
    "    raise Exception(\"There is no instance named %s\" % Target)\n",
    "\n",
    "instance = instance[0]\n",
    "path = os.path.abspath(\"../%s\" % instance['path'])\n",
    "optimum = instance['optimum']\n",
    "\n",
    "if( optimum is None ):\n",
    "    if(instance['bounds'] is None):\n",
    "        optimum = \"nan\"\n",
    "    else:\n",
    "        optimum = instance['bounds']['lower']\n",
    "\n",
    "sys.stdout.write('--instance %s --optimum %s' % (path,optimum))"
   ]
  },
  {
   "cell_type": "code",
   "execution_count": null,
   "metadata": {},
   "outputs": [],
   "source": [
    "optimum"
   ]
  },
  {
   "cell_type": "code",
   "execution_count": null,
   "metadata": {},
   "outputs": [],
   "source": [
    "# EXAMPLE OF HOW JOBS SHOULD BE PRESENTED\n",
    "job_times = [[2, 1, 3], [4, 2, 1], [3, 3, 2]] # [0, 1, 2, 3, 4, 5, 6 ,7, 8] (how represented in the solution, flatten and re-enumerated)\n",
    "# job 0: [2, 1, 3]\n",
    "# Machine 1: 2, index 0 in the solution\n",
    "# Machine 2: 1  index 1 in the solution\n",
    "# Machine 3: 3  index 2 in the solution\n",
    "# etc. same for the others\n",
    "# job_times[i][j] represents the processing time of job i on machine j.\n",
    "# The objective is typically to minimize the total time required to complete all jobs (the makespan).\n",
    "\n",
    "path_file = './JSPLIB-master/instances/abz5'\n",
    "\n",
    "# read raw data\n",
    "with open(path_file) as f_o:\n",
    "    data = f_o.read()\n",
    "    lines = data.splitlines()\n",
    "    print(lines)\n",
    "\n",
    "jobs = np.zeros((10, 10))\n",
    "lines = lines[5:]\n",
    "lines, len(lines)\n",
    "\n",
    "for i in range(len(lines)):\n",
    "    line = lines[i].split(' ')\n",
    "    line = [int(num) for num in line]\n",
    "    for j in range(0, len(line) -1 , 2):\n",
    "        jobs[i][line[j]] = int(line[j+1])\n",
    "jobs"
   ]
  },
  {
   "cell_type": "code",
   "execution_count": null,
   "metadata": {},
   "outputs": [],
   "source": [
    "from mealpy import PermutationVar, Problem, WOA\n",
    "\n",
    "job_times = jobs\n",
    "n_jobs = len(job_times)\n",
    "n_machines = 10\n",
    "\n",
    "\n",
    "data = {\n",
    "    \"job_times\": job_times,\n",
    "    \"n_jobs\": n_jobs,\n",
    "    \"n_machines\": n_machines\n",
    "}\n",
    "\n",
    "class JobShopProblem(Problem):\n",
    "    def __init__(self, bounds=None, minmax=\"min\", data=None, **kwargs):\n",
    "        self.data = data\n",
    "        super().__init__(bounds, minmax, **kwargs)\n",
    "\n",
    "        # Objective function to minimize the makespan\n",
    "    def obj_func(self, x):\n",
    "        x_decoded = self.decode_solution(x)\n",
    "        x = x_decoded[\"per_var\"]\n",
    "\n",
    "        # Initialize the makespan matrix with zeroes for all jobs and machines\n",
    "        makespan = np.zeros((self.data[\"n_jobs\"], self.data[\"n_machines\"]))\n",
    "        \n",
    "        # MakeSpan:  [[0. 0. 0.]\n",
    "        #             [0. 0. 0.]\n",
    "        #             [0. 0. 0.]]\n",
    "        # makespan[i][j]: each row i represent a job idx, each column j repesent a machine idx\n",
    "        \n",
    "        # Arrays to track the completion time of each job and each machine\n",
    "        job_completion = np.zeros(self.data[\"n_jobs\"])\n",
    "        machine_completion = np.zeros(self.data[\"n_machines\"])\n",
    "\n",
    "        # Iterates over the jobs in the solution order and calculates the completion time of each job on each machine.\n",
    "        # Uses a makespan matrix to keep track of the completion times of jobs on each machine.\n",
    "        # The final makespan is the maximum value in the makespan matrix, which represents the completion time of the last job.\n",
    "        for gene in x:\n",
    "            # Decode gene into job and machine indices\n",
    "            job_idx = gene // self.data[\"n_machines\"]\n",
    "            machine_idx = gene % self.data[\"n_machines\"]\n",
    "            \n",
    "            # Completion time for this job on this machine depends on two things:\n",
    "            # 1. The time when the machine becomes available (from previous job)\n",
    "            # 2. The time when the job is ready to be processed on this machine (from previous machine)\n",
    "            \n",
    "            start_time = max(job_completion[job_idx], machine_completion[machine_idx])\n",
    "            \n",
    "            # Update the makespan matrix with start time + processing time\n",
    "            makespan[job_idx][machine_idx] = start_time + self.data[\"job_times\"][job_idx][machine_idx]\n",
    "            \n",
    "            # Update the completion time of this job and this machine\n",
    "            job_completion[job_idx] = makespan[job_idx][machine_idx]\n",
    "            machine_completion[machine_idx] = makespan[job_idx][machine_idx]\n",
    "        \n",
    "        # The makespan (objective value) is the maximum value in the makespan matrix\n",
    "        return np.max(makespan)\n",
    "        \n",
    "\n",
    "bounds = PermutationVar(valid_set=list(range(0, n_jobs*n_machines)), name=\"per_var\")\n",
    "problem = JobShopProblem(bounds=bounds, minmax=\"min\", data=data)\n",
    "\n",
    "\n",
    "model = WOA.OriginalWOA(epoch=100, pop_size=20)\n",
    "model.solve(problem)\n",
    "\n",
    "print(f\"Best agent: {model.g_best}\")                    # Encoded solution\n",
    "print(f\"Best solution: {model.g_best.solution}\")        # Encoded solution\n",
    "print(f\"Best fitness: {model.g_best.target.fitness}\")\n",
    "print(f\"Best real scheduling: {model.problem.decode_solution(model.g_best.solution)}\")      # Decoded (Real) solution"
   ]
  },
  {
   "cell_type": "code",
   "execution_count": null,
   "metadata": {},
   "outputs": [],
   "source": [
    "def plot_gantt_chart(solution, job_times):\n",
    "    n_jobs = len(job_times)\n",
    "    n_machines = len(job_times[0])\n",
    "    \n",
    "    # Decode the solution\n",
    "    decoded = problem.decode_solution(solution)[\"per_var\"]\n",
    "    \n",
    "    # Initialize data structures\n",
    "    job_completion = np.zeros(n_jobs)\n",
    "    machine_completion = np.zeros(n_machines)\n",
    "    tasks = []\n",
    "    \n",
    "    # Generate a color for each job\n",
    "    colors = plt.cm.get_cmap('hsv', n_jobs)\n",
    "\n",
    "    for gene in decoded:\n",
    "        job_idx = gene // n_machines\n",
    "        machine_idx = gene % n_machines\n",
    "        start_time = max(job_completion[job_idx], machine_completion[machine_idx])\n",
    "        end_time = start_time + job_times[job_idx][machine_idx]\n",
    "        \n",
    "        # Record the task for Gantt chart\n",
    "        tasks.append((machine_idx, start_time, end_time, job_idx))\n",
    "        \n",
    "        # Update completion times\n",
    "        job_completion[job_idx] = end_time\n",
    "        machine_completion[machine_idx] = end_time\n",
    "    \n",
    "    # Plotting\n",
    "    fig, gnt = plt.subplots(figsize=(16, 6))  # Set a larger figure size\n",
    "    gnt.set_xlabel('Time')\n",
    "    gnt.set_ylabel('Machines')\n",
    "    gnt.set_title('Gantt Chart for Job Shop Scheduling')\n",
    "\n",
    "    # Set the y-ticks to represent machines\n",
    "    gnt.set_yticks(range(n_machines))\n",
    "    gnt.set_yticklabels([f'Machine {i+1}' for i in range(n_machines)])\n",
    "\n",
    "    # Add tasks to the Gantt chart\n",
    "    for machine_idx, start_time, end_time, job_idx in tasks:\n",
    "        gnt.broken_barh([(start_time, end_time - start_time)], (machine_idx - 0.4, 0.8), \n",
    "                         facecolors=colors(job_idx / n_jobs))  # Assign color based on job index\n",
    "        gnt.text(start_time + (end_time - start_time) / 2, machine_idx, \n",
    "                 f'J {job_idx + 1}', ha='center', va='center', color='black')\n",
    "\n",
    "    plt.show()\n",
    "\n",
    "# After solving the problem, visualize the best solution\n",
    "plot_gantt_chart(model.g_best.solution, job_times)"
   ]
  },
  {
   "cell_type": "code",
   "execution_count": null,
   "metadata": {},
   "outputs": [],
   "source": [
    "job_times"
   ]
  },
  {
   "cell_type": "code",
   "execution_count": null,
   "metadata": {},
   "outputs": [],
   "source": []
  }
 ],
 "metadata": {
  "colab": {
   "name": "Student_lecture 1.ipynb",
   "provenance": []
  },
  "kernelspec": {
   "display_name": "Python 3",
   "language": "python",
   "name": "python3"
  },
  "language_info": {
   "codemirror_mode": {
    "name": "ipython",
    "version": 3
   },
   "file_extension": ".py",
   "mimetype": "text/x-python",
   "name": "python",
   "nbconvert_exporter": "python",
   "pygments_lexer": "ipython3",
   "version": "3.10.12"
  }
 },
 "nbformat": 4,
 "nbformat_minor": 0
}
